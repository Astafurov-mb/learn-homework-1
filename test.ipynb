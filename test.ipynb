{
 "cells": [
  {
   "cell_type": "code",
   "execution_count": 2,
   "metadata": {},
   "outputs": [
    {
     "name": "stdout",
     "output_type": "stream",
     "text": [
      "Defaulting to user installation because normal site-packages is not writeable\n",
      "Requirement already satisfied: python-telegram-bot[socks] in c:\\users\\виктор\\appdata\\roaming\\python\\python39\\site-packages (20.1)\n",
      "Requirement already satisfied: httpx[http2]~=0.23.3 in c:\\users\\виктор\\appdata\\roaming\\python\\python39\\site-packages (from python-telegram-bot[socks]) (0.23.3)\n",
      "Requirement already satisfied: certifi in c:\\users\\виктор\\appdata\\roaming\\python\\python39\\site-packages (from httpx[http2]~=0.23.3->python-telegram-bot[socks]) (2022.12.7)\n",
      "Requirement already satisfied: sniffio in c:\\users\\виктор\\appdata\\roaming\\python\\python39\\site-packages (from httpx[http2]~=0.23.3->python-telegram-bot[socks]) (1.3.0)\n",
      "Requirement already satisfied: rfc3986[idna2008]<2,>=1.3 in c:\\users\\виктор\\appdata\\roaming\\python\\python39\\site-packages (from httpx[http2]~=0.23.3->python-telegram-bot[socks]) (1.5.0)\n",
      "Requirement already satisfied: httpcore<0.17.0,>=0.15.0 in c:\\users\\виктор\\appdata\\roaming\\python\\python39\\site-packages (from httpx[http2]~=0.23.3->python-telegram-bot[socks]) (0.16.3)\n",
      "Requirement already satisfied: h2<5,>=3 in c:\\users\\виктор\\appdata\\roaming\\python\\python39\\site-packages (from httpx[http2]~=0.23.3->python-telegram-bot[socks]) (4.1.0)\n",
      "Collecting socksio==1.*\n",
      "  Downloading socksio-1.0.0-py3-none-any.whl (12 kB)\n",
      "Requirement already satisfied: hyperframe<7,>=6.0 in c:\\users\\виктор\\appdata\\roaming\\python\\python39\\site-packages (from h2<5,>=3->httpx[http2]~=0.23.3->python-telegram-bot[socks]) (6.0.1)\n",
      "Requirement already satisfied: hpack<5,>=4.0 in c:\\users\\виктор\\appdata\\roaming\\python\\python39\\site-packages (from h2<5,>=3->httpx[http2]~=0.23.3->python-telegram-bot[socks]) (4.0.0)\n",
      "Requirement already satisfied: anyio<5.0,>=3.0 in c:\\users\\виктор\\appdata\\roaming\\python\\python39\\site-packages (from httpcore<0.17.0,>=0.15.0->httpx[http2]~=0.23.3->python-telegram-bot[socks]) (3.6.2)\n",
      "Requirement already satisfied: h11<0.15,>=0.13 in c:\\users\\виктор\\appdata\\roaming\\python\\python39\\site-packages (from httpcore<0.17.0,>=0.15.0->httpx[http2]~=0.23.3->python-telegram-bot[socks]) (0.14.0)\n",
      "Requirement already satisfied: idna in c:\\users\\виктор\\appdata\\roaming\\python\\python39\\site-packages (from rfc3986[idna2008]<2,>=1.3->httpx[http2]~=0.23.3->python-telegram-bot[socks]) (3.4)\n",
      "Installing collected packages: socksio\n",
      "Successfully installed socksio-1.0.0\n",
      "Note: you may need to restart the kernel to use updated packages.\n"
     ]
    }
   ],
   "source": [
    "pip install python-telegram-bot[socks]"
   ]
  }
 ],
 "metadata": {
  "kernelspec": {
   "display_name": "base",
   "language": "python",
   "name": "python3"
  },
  "language_info": {
   "codemirror_mode": {
    "name": "ipython",
    "version": 3
   },
   "file_extension": ".py",
   "mimetype": "text/x-python",
   "name": "python",
   "nbconvert_exporter": "python",
   "pygments_lexer": "ipython3",
   "version": "3.9.13"
  },
  "orig_nbformat": 4,
  "vscode": {
   "interpreter": {
    "hash": "ad2bdc8ecc057115af97d19610ffacc2b4e99fae6737bb82f5d7fb13d2f2c186"
   }
  }
 },
 "nbformat": 4,
 "nbformat_minor": 2
}
