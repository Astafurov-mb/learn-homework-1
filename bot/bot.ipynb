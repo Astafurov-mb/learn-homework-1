{
 "cells": [
  {
   "cell_type": "code",
   "execution_count": 3,
   "metadata": {},
   "outputs": [
    {
     "name": "stdout",
     "output_type": "stream",
     "text": [
      "{'update_id': 664533889, 'message': {'text': '/start', 'chat': {'username': 'Asbine', 'first_name': 'Viktor', 'type': 'private', 'last_name': 'Astafurov', 'id': 282187787}, 'date': 1676739630, 'channel_chat_created': False, 'new_chat_members': [], 'group_chat_created': False, 'entities': [{'length': 6, 'offset': 0, 'type': 'bot_command'}], 'delete_chat_photo': False, 'message_id': 67, 'new_chat_photo': [], 'caption_entities': [], 'photo': [], 'supergroup_chat_created': False, 'from': {'is_bot': False, 'username': 'Asbine', 'last_name': 'Astafurov', 'language_code': 'ru', 'first_name': 'Viktor', 'id': 282187787}}}\n",
      "<telegram.ext.callbackcontext.CallbackContext object at 0x000001D0EFAD7660>\n",
      "ВПгаврватвцжиеждлиуди\n"
     ]
    }
   ],
   "source": [
    "import logging\n",
    "import ephem\n",
    "\n",
    "from telegram.ext import Updater, CommandHandler, MessageHandler, Filters\n",
    "def say_hello(update, context):\n",
    "    update.message.reply_text ('Здарова!')\n",
    "    print(update)\n",
    "    print(context)\n",
    "    update.message.first_name\n",
    "\n",
    "def talk_to_me(update, context):\n",
    "    user_text = update.message.text\n",
    "    print(user_text)\n",
    "    update.message.reply_text('ДАННОЕ СООБЩЕНИЕ (МАТЕРИАЛ) СОЗДАНО И (ИЛИ) РАСПРОСТРАНЕНО ИНОСТРАННЫМ СРЕДСТВОМ МАССОВОЙ ИНФОРМАЦИИ, ВЫПОЛНЯЮЩИМ ФУНКЦИИ ИНОСТРАННОГО АГЕНТА, И (ИЛИ) РОССИЙСКИМ ЮРИДИЧЕСКИМ ЛИЦОМ, ВЫПОЛНЯЮЩИМ ФУНКЦИИ ИНОСТРАННОГО АГЕНТА \\n\\n\\n' + user_text)\n",
    "\n",
    "logging.basicConfig(filename='bot.log', level=logging.INFO)\n",
    "\n",
    "def main():\n",
    "    mybot = Updater(\"6257265671:AAFh2R5m9a5ALVoRFt3sOG7gOV_b2JGHl-s\", use_context=True)\n",
    "    dp=mybot.dispatcher\n",
    "    dp.add_handler(CommandHandler('start', say_hello))\n",
    "    dp.add_handler(MessageHandler(Filters.text, talk_to_me))\n",
    "    logging.info('стартуем!')\n",
    "    mybot.start_polling()\n",
    "    mybot.idle()\n",
    "\n",
    "main()\n"
   ]
  },
  {
   "cell_type": "code",
   "execution_count": 1,
   "metadata": {},
   "outputs": [
    {
     "name": "stdout",
     "output_type": "stream",
     "text": [
      "Defaulting to user installation because normal site-packages is not writeable\n",
      "Collecting python-telegram-bot==13.14\n",
      "  Using cached python_telegram_bot-13.14-py3-none-any.whl (514 kB)\n",
      "Requirement already satisfied: certifi in c:\\users\\виктор\\appdata\\roaming\\python\\python39\\site-packages (from python-telegram-bot==13.14) (2022.12.7)\n",
      "Requirement already satisfied: tornado==6.1 in c:\\users\\виктор\\appdata\\roaming\\python\\python39\\site-packages (from python-telegram-bot==13.14) (6.1)\n",
      "Requirement already satisfied: pytz>=2018.6 in c:\\users\\виктор\\appdata\\roaming\\python\\python39\\site-packages (from python-telegram-bot==13.14) (2022.7.1)\n",
      "Collecting APScheduler==3.6.3\n",
      "  Using cached APScheduler-3.6.3-py2.py3-none-any.whl (58 kB)\n",
      "Collecting cachetools==4.2.2\n",
      "  Using cached cachetools-4.2.2-py3-none-any.whl (11 kB)\n",
      "Collecting tzlocal>=1.2\n",
      "  Using cached tzlocal-4.2-py3-none-any.whl (19 kB)\n",
      "Requirement already satisfied: six>=1.4.0 in c:\\users\\виктор\\appdata\\roaming\\python\\python39\\site-packages (from APScheduler==3.6.3->python-telegram-bot==13.14) (1.16.0)\n",
      "Requirement already satisfied: setuptools>=0.7 in c:\\programdata\\anaconda3\\lib\\site-packages (from APScheduler==3.6.3->python-telegram-bot==13.14) (63.4.1)\n",
      "Collecting pytz-deprecation-shim\n",
      "  Using cached pytz_deprecation_shim-0.1.0.post0-py2.py3-none-any.whl (15 kB)\n",
      "Requirement already satisfied: tzdata in c:\\users\\виктор\\appdata\\roaming\\python\\python39\\site-packages (from tzlocal>=1.2->APScheduler==3.6.3->python-telegram-bot==13.14) (2022.7)\n",
      "Installing collected packages: pytz-deprecation-shim, cachetools, tzlocal, APScheduler, python-telegram-bot\n",
      "  Attempting uninstall: python-telegram-bot\n",
      "    Found existing installation: python-telegram-bot 20.1\n",
      "    Uninstalling python-telegram-bot-20.1:\n",
      "      Successfully uninstalled python-telegram-bot-20.1\n",
      "Successfully installed APScheduler-3.6.3 cachetools-4.2.2 python-telegram-bot-13.14 pytz-deprecation-shim-0.1.0.post0 tzlocal-4.2\n",
      "Note: you may need to restart the kernel to use updated packages.\n"
     ]
    }
   ],
   "source": [
    "pip install python-telegram-bot==13.14"
   ]
  }
 ],
 "metadata": {
  "kernelspec": {
   "display_name": "base",
   "language": "python",
   "name": "python3"
  },
  "language_info": {
   "codemirror_mode": {
    "name": "ipython",
    "version": 3
   },
   "file_extension": ".py",
   "mimetype": "text/x-python",
   "name": "python",
   "nbconvert_exporter": "python",
   "pygments_lexer": "ipython3",
   "version": "3.9.13"
  },
  "orig_nbformat": 4,
  "vscode": {
   "interpreter": {
    "hash": "ad2bdc8ecc057115af97d19610ffacc2b4e99fae6737bb82f5d7fb13d2f2c186"
   }
  }
 },
 "nbformat": 4,
 "nbformat_minor": 2
}
